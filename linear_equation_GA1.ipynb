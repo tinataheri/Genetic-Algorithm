{
  "nbformat": 4,
  "nbformat_minor": 0,
  "metadata": {
    "colab": {
      "provenance": [],
      "authorship_tag": "ABX9TyPxtBWEAOybuopQY+ZHDrRJ",
      "include_colab_link": true
    },
    "kernelspec": {
      "name": "python3",
      "display_name": "Python 3"
    },
    "language_info": {
      "name": "python"
    }
  },
  "cells": [
    {
      "cell_type": "markdown",
      "metadata": {
        "id": "view-in-github",
        "colab_type": "text"
      },
      "source": [
        "<a href=\"https://colab.research.google.com/github/tinataheri/Genetic-Algorithm/blob/main/linear_equation_GA1.ipynb\" target=\"_parent\"><img src=\"https://colab.research.google.com/assets/colab-badge.svg\" alt=\"Open In Colab\"/></a>"
      ]
    },
    {
      "cell_type": "code",
      "metadata": {
        "id": "ntnPBUKck8vK"
      },
      "source": [
        "import random\n",
        "random.seed(100)"
      ],
      "execution_count": null,
      "outputs": []
    },
    {
      "cell_type": "code",
      "metadata": {
        "id": "b650gQwkk92X"
      },
      "source": [
        "fit_chromosomes=[]\n",
        "population=[[random.randint(1,9) for i in range(6)] for j in range(6)]"
      ],
      "execution_count": null,
      "outputs": []
    },
    {
      "cell_type": "code",
      "metadata": {
        "colab": {
          "base_uri": "https://localhost:8080/"
        },
        "id": "fjHdhEiAlATf",
        "outputId": "41a53d98-8741-4fad-d4a7-1b063be6bfba"
      },
      "source": [
        "def fitness(population):\n",
        "    fitnessscore=[]\n",
        "\n",
        "    for chromosome in population:\n",
        "        individual_fitness=100-abs(30-(chromosome[0]+2*chromosome[1]-3*chromosome[2]+chromosome[3]+4*chromosome[4]+chromosome[5]))\n",
        "        fitnessscore.append(individual_fitness)\n",
        "    total_fitness=sum(fitnessscore)\n",
        "    score_card=list(zip(fitnessscore,population))\n",
        "    score_card.sort(reverse=True)\n",
        "\n",
        "    return score_card\n",
        "\n",
        "score_card=fitness(population)\n",
        "print(score_card)"
      ],
      "execution_count": null,
      "outputs": [
        {
          "output_type": "stream",
          "text": [
            "[(99, [5, 4, 3, 3, 4, 6]), (98, [3, 8, 8, 3, 7, 6]), (95, [5, 7, 3, 2, 3, 1]), (92, [7, 9, 2, 9, 2, 2]), (83, [8, 5, 1, 4, 6, 4]), (74, [6, 7, 4, 7, 8, 9])]\n"
          ],
          "name": "stdout"
        }
      ]
    },
    {
      "cell_type": "code",
      "metadata": {
        "colab": {
          "base_uri": "https://localhost:8080/"
        },
        "id": "ge5GhoTTlDEI",
        "outputId": "b70a5878-461b-49a8-b0ec-e8e2c6448cd5"
      },
      "source": [
        "def selection(population,fit_chromosomes,score_card):\n",
        "\n",
        "    for individual in score_card:\n",
        "        if individual[0]==100:\n",
        "            if individual[1] not in fit_chromosomes:\n",
        "                fit_chromosomes.append(individual[1])\n",
        "\n",
        "    score_card=score_card[:4]\n",
        "    score, selected_chromosomes=zip(*score_card)\n",
        "    return list(selected_chromosomes)\n",
        "\n",
        "print('Population before selection:',population,'\\n')\n",
        "selected_chromosomes=selection(population,fit_chromosomes,score_card)\n",
        "print('Population after selection:',selected_chromosomes)\n",
        "print('Fit chromosomes:',fit_chromosomes,'\\n')"
      ],
      "execution_count": null,
      "outputs": [
        {
          "output_type": "stream",
          "text": [
            "Population before selection: [[3, 8, 8, 3, 7, 6], [7, 9, 2, 9, 2, 2], [8, 5, 1, 4, 6, 4], [5, 4, 3, 3, 4, 6], [6, 7, 4, 7, 8, 9], [5, 7, 3, 2, 3, 1]] \n",
            "\n",
            "Population after selection: [[5, 4, 3, 3, 4, 6], [3, 8, 8, 3, 7, 6], [5, 7, 3, 2, 3, 1], [7, 9, 2, 9, 2, 2]]\n",
            "Fit chromosomes: [] \n",
            "\n"
          ],
          "name": "stdout"
        }
      ]
    },
    {
      "cell_type": "code",
      "metadata": {
        "colab": {
          "base_uri": "https://localhost:8080/"
        },
        "id": "65nu6IoQlFzm",
        "outputId": "eb539891-7518-4c96-ee54-3aedbe218c9b"
      },
      "source": [
        "def crossover(selected_chromosomes):\n",
        "    random.shuffle(selected_chromosomes)\n",
        "    parent1=selected_chromosomes[:2]\n",
        "    parent2=selected_chromosomes[2:]\n",
        "    crossover_children=[]\n",
        "    for i in range(len(parent1)):\n",
        "        crossoversite=random.randint(1,5)\n",
        "        p1_fragments=[parent1[i][:crossoversite],parent1[i][crossoversite:]]\n",
        "        p2_fragments=[parent2[i][:crossoversite],parent2[i][crossoversite:]]\n",
        "        child1=p1_fragments[0]+p2_fragments[1]\n",
        "        crossover_children.append(child1)\n",
        "        child2=p2_fragments[0]+p1_fragments[1]\n",
        "        crossover_children.append(child2)\n",
        "\n",
        "    population=selected_chromosomes+crossover_children\n",
        "\n",
        "    return population\n",
        "\n",
        "print('Population before crossover:',selected_chromosomes,'\\n','Size:',len(selected_chromosomes),'\\n')\n",
        "population=crossover(selected_chromosomes)\n",
        "print('Population after crossover:', population,'\\n','Size:',len(population),'\\n')"
      ],
      "execution_count": null,
      "outputs": [
        {
          "output_type": "stream",
          "text": [
            "Population before crossover: [[5, 4, 3, 3, 4, 6], [3, 8, 8, 3, 7, 6], [5, 7, 3, 2, 3, 1], [7, 9, 2, 9, 2, 2]] \n",
            " Size: 4 \n",
            "\n",
            "Population after crossover: [[3, 8, 8, 3, 7, 6], [5, 7, 3, 2, 3, 1], [5, 4, 3, 3, 4, 6], [7, 9, 2, 9, 2, 2], [3, 8, 3, 3, 4, 6], [5, 4, 8, 3, 7, 6], [5, 7, 2, 9, 2, 2], [7, 9, 3, 2, 3, 1]] \n",
            " Size: 8 \n",
            "\n"
          ],
          "name": "stdout"
        }
      ]
    },
    {
      "cell_type": "code",
      "metadata": {
        "colab": {
          "base_uri": "https://localhost:8080/"
        },
        "id": "fSufoqzvlM55",
        "outputId": "4931c68a-9eed-49dd-9a4c-065d4966dc45"
      },
      "source": [
        "def mutation(population):\n",
        "    mutation_children=[]\n",
        "    for chromosome in population:\n",
        "        mutation_site=random.randint(0,5)\n",
        "        chromosome[mutation_site]=random.randint(1,9)\n",
        "        mutation_children.append(chromosome)\n",
        "\n",
        "    population=population+mutation_children\n",
        "\n",
        "    return population\n",
        "\n",
        "print('Population before mutation:',population,'\\n','Size:',len(population),'\\n')\n",
        "population=mutation(population)\n",
        "print('Population now:', population,'\\n','Size:',len(population),'\\n')"
      ],
      "execution_count": null,
      "outputs": [
        {
          "output_type": "stream",
          "text": [
            "Population before mutation: [[3, 8, 8, 3, 7, 6], [5, 7, 3, 2, 3, 1], [5, 4, 3, 3, 4, 6], [7, 9, 2, 9, 2, 2], [3, 8, 3, 3, 4, 6], [5, 4, 8, 3, 7, 6], [5, 7, 2, 9, 2, 2], [7, 9, 3, 2, 3, 1]] \n",
            " Size: 8 \n",
            "\n",
            "Population now: [[4, 8, 8, 3, 7, 6], [5, 7, 3, 7, 3, 1], [5, 9, 3, 3, 4, 6], [4, 9, 2, 9, 2, 2], [3, 8, 3, 3, 4, 9], [5, 4, 8, 3, 7, 5], [5, 7, 2, 9, 2, 6], [7, 9, 3, 2, 6, 1], [4, 8, 8, 3, 7, 6], [5, 7, 3, 7, 3, 1], [5, 9, 3, 3, 4, 6], [4, 9, 2, 9, 2, 2], [3, 8, 3, 3, 4, 9], [5, 4, 8, 3, 7, 5], [5, 7, 2, 9, 2, 6], [7, 9, 3, 2, 6, 1]] \n",
            " Size: 16 \n",
            "\n"
          ],
          "name": "stdout"
        }
      ]
    },
    {
      "cell_type": "code",
      "metadata": {
        "colab": {
          "base_uri": "https://localhost:8080/"
        },
        "id": "pvDDZM0-lP82",
        "outputId": "4df07da0-925d-4845-fd4e-b6ad81b41ee2"
      },
      "source": [
        "def get_fit_chromosomes(generations,population,fit_chromosomes):\n",
        "\n",
        "    for generation in range(generations):\n",
        "        generation+=1\n",
        "        f=fitness(population)\n",
        "        selected_chromosomes=selection(population,fit_chromosomes,f)\n",
        "        crossover_children=crossover(selected_chromosomes)\n",
        "        mutation_children=mutation(population)\n",
        "\n",
        "    return fit_chromosomes\n",
        "\n",
        "solution=get_fit_chromosomes(100,population,fit_chromosomes)\n",
        "print('Solutions:', solution,'\\n','Size:',len(solution),'\\n')"
      ],
      "execution_count": null,
      "outputs": [
        {
          "output_type": "stream",
          "text": [
            "Solutions: [[4, 7, 3, 3, 3, 2], [1, 3, 2, 7, 2, 6], [4, 6, 1, 6, 5, 8], [2, 8, 3, 9, 2, 2], [8, 6, 1, 7, 1, 9], [9, 3, 2, 6, 4, 2], [7, 6, 4, 6, 7, 6], [7, 2, 2, 8, 8, 9]] \n",
            " Size: 8 \n",
            "\n"
          ],
          "name": "stdout"
        }
      ]
    }
  ]
}